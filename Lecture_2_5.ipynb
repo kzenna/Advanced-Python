{
 "cells": [
  {
   "cell_type": "code",
   "execution_count": 11,
   "metadata": {},
   "outputs": [],
   "source": [
    "import pandas as pd"
   ]
  },
  {
   "cell_type": "code",
   "execution_count": 12,
   "metadata": {},
   "outputs": [],
   "source": [
    "import zipfile\n",
    "zipfile.ZipFile('names.zip').extractall('.')"
   ]
  },
  {
   "cell_type": "code",
   "execution_count": 13,
   "metadata": {},
   "outputs": [],
   "source": [
    "all_years = []\n",
    "for year in range(1880, 2017+1):\n",
    "    all_years.append(pd.read_csv('yob{}.txt'.format(year),names = ['Name', 'Gender', 'Count']))\n",
    "    all_years[-1]['Year'] = year\n",
    "    df_res = pd.concat(all_years)"
   ]
  },
  {
   "cell_type": "code",
   "execution_count": 22,
   "metadata": {},
   "outputs": [
    {
     "data": {
      "text/html": [
       "<div>\n",
       "<style scoped>\n",
       "    .dataframe tbody tr th:only-of-type {\n",
       "        vertical-align: middle;\n",
       "    }\n",
       "\n",
       "    .dataframe tbody tr th {\n",
       "        vertical-align: top;\n",
       "    }\n",
       "\n",
       "    .dataframe thead th {\n",
       "        text-align: right;\n",
       "    }\n",
       "</style>\n",
       "<table border=\"1\" class=\"dataframe\">\n",
       "  <thead>\n",
       "    <tr style=\"text-align: right;\">\n",
       "      <th></th>\n",
       "      <th></th>\n",
       "      <th>Year</th>\n",
       "    </tr>\n",
       "    <tr>\n",
       "      <th>Name</th>\n",
       "      <th>Count</th>\n",
       "      <th></th>\n",
       "    </tr>\n",
       "  </thead>\n",
       "  <tbody>\n",
       "    <tr>\n",
       "      <th>Robert</th>\n",
       "      <th>101123</th>\n",
       "      <td>5850</td>\n",
       "    </tr>\n",
       "    <tr>\n",
       "      <th>John</th>\n",
       "      <th>109341</th>\n",
       "      <td>5850</td>\n",
       "    </tr>\n",
       "    <tr>\n",
       "      <th>James</th>\n",
       "      <th>111465</th>\n",
       "      <td>5850</td>\n",
       "    </tr>\n",
       "  </tbody>\n",
       "</table>\n",
       "</div>"
      ],
      "text/plain": [
       "               Year\n",
       "Name   Count       \n",
       "Robert 101123  5850\n",
       "John   109341  5850\n",
       "James  111465  5850"
      ]
     },
     "execution_count": 22,
     "metadata": {},
     "output_type": "execute_result"
    }
   ],
   "source": [
    "name_necessary_year = df_res[df_res['Year'].isin([1900,1950, 2000])]\n",
    "all_name = name_necessary_year.groupby(['Name','Gender']).sum()\n",
    "top_3 = all_name.groupby(['Name', 'Count']).max().sort_values('Count')[-3:]\n",
    "top_3"
   ]
  },
  {
   "cell_type": "code",
   "execution_count": 28,
   "metadata": {},
   "outputs": [
    {
     "data": {
      "text/html": [
       "<div>\n",
       "<style scoped>\n",
       "    .dataframe tbody tr th:only-of-type {\n",
       "        vertical-align: middle;\n",
       "    }\n",
       "\n",
       "    .dataframe tbody tr th {\n",
       "        vertical-align: top;\n",
       "    }\n",
       "\n",
       "    .dataframe thead tr th {\n",
       "        text-align: left;\n",
       "    }\n",
       "\n",
       "    .dataframe thead tr:last-of-type th {\n",
       "        text-align: right;\n",
       "    }\n",
       "</style>\n",
       "<table border=\"1\" class=\"dataframe\">\n",
       "  <thead>\n",
       "    <tr>\n",
       "      <th></th>\n",
       "      <th></th>\n",
       "      <th colspan=\"2\" halign=\"left\">Name</th>\n",
       "      <th colspan=\"2\" halign=\"left\">Count</th>\n",
       "    </tr>\n",
       "    <tr>\n",
       "      <th></th>\n",
       "      <th></th>\n",
       "      <th>sum</th>\n",
       "      <th>max</th>\n",
       "      <th>sum</th>\n",
       "      <th>max</th>\n",
       "    </tr>\n",
       "    <tr>\n",
       "      <th>Gender</th>\n",
       "      <th>Year</th>\n",
       "      <th></th>\n",
       "      <th></th>\n",
       "      <th></th>\n",
       "      <th></th>\n",
       "    </tr>\n",
       "  </thead>\n",
       "  <tbody>\n",
       "    <tr>\n",
       "      <th rowspan=\"3\" valign=\"top\">F</th>\n",
       "      <th>1900</th>\n",
       "      <td>MaryHelenAnnaMargaretRuthElizabethFlorenceEthe...</td>\n",
       "      <td>Zylpha</td>\n",
       "      <td>299800</td>\n",
       "      <td>16706</td>\n",
       "    </tr>\n",
       "    <tr>\n",
       "      <th>1950</th>\n",
       "      <td>LindaMaryPatriciaBarbaraSusanNancyDeborahSandr...</td>\n",
       "      <td>Zulma</td>\n",
       "      <td>1713151</td>\n",
       "      <td>80432</td>\n",
       "    </tr>\n",
       "    <tr>\n",
       "      <th>2000</th>\n",
       "      <td>EmilyHannahMadisonAshleySarahAlexisSamanthaJes...</td>\n",
       "      <td>Zyria</td>\n",
       "      <td>1815110</td>\n",
       "      <td>25953</td>\n",
       "    </tr>\n",
       "    <tr>\n",
       "      <th rowspan=\"3\" valign=\"top\">M</th>\n",
       "      <th>1900</th>\n",
       "      <td>JohnWilliamJamesGeorgeCharlesRobertJosephFrank...</td>\n",
       "      <td>Zollie</td>\n",
       "      <td>150483</td>\n",
       "      <td>9829</td>\n",
       "    </tr>\n",
       "    <tr>\n",
       "      <th>1950</th>\n",
       "      <td>JamesRobertJohnMichaelDavidWilliamRichardThoma...</td>\n",
       "      <td>Zygmunt</td>\n",
       "      <td>1790549</td>\n",
       "      <td>86239</td>\n",
       "    </tr>\n",
       "    <tr>\n",
       "      <th>2000</th>\n",
       "      <td>JacobMichaelMatthewJoshuaChristopherNicholasAn...</td>\n",
       "      <td>Zyshonne</td>\n",
       "      <td>1962969</td>\n",
       "      <td>34471</td>\n",
       "    </tr>\n",
       "  </tbody>\n",
       "</table>\n",
       "</div>"
      ],
      "text/plain": [
       "                                                          Name            \\\n",
       "                                                           sum       max   \n",
       "Gender Year                                                                \n",
       "F      1900  MaryHelenAnnaMargaretRuthElizabethFlorenceEthe...    Zylpha   \n",
       "       1950  LindaMaryPatriciaBarbaraSusanNancyDeborahSandr...     Zulma   \n",
       "       2000  EmilyHannahMadisonAshleySarahAlexisSamanthaJes...     Zyria   \n",
       "M      1900  JohnWilliamJamesGeorgeCharlesRobertJosephFrank...    Zollie   \n",
       "       1950  JamesRobertJohnMichaelDavidWilliamRichardThoma...   Zygmunt   \n",
       "       2000  JacobMichaelMatthewJoshuaChristopherNicholasAn...  Zyshonne   \n",
       "\n",
       "               Count         \n",
       "                 sum    max  \n",
       "Gender Year                  \n",
       "F      1900   299800  16706  \n",
       "       1950  1713151  80432  \n",
       "       2000  1815110  25953  \n",
       "M      1900   150483   9829  \n",
       "       1950  1790549  86239  \n",
       "       2000  1962969  34471  "
      ]
     },
     "execution_count": 28,
     "metadata": {},
     "output_type": "execute_result"
    }
   ],
   "source": [
    "name_gender = name_necessary_year.groupby(['Gender', 'Year']).agg(['sum','max'])\n",
    "name_gender"
   ]
  },
  {
   "cell_type": "code",
   "execution_count": null,
   "metadata": {},
   "outputs": [],
   "source": []
  }
 ],
 "metadata": {
  "kernelspec": {
   "display_name": "Python 3",
   "language": "python",
   "name": "python3"
  },
  "language_info": {
   "codemirror_mode": {
    "name": "ipython",
    "version": 3
   },
   "file_extension": ".py",
   "mimetype": "text/x-python",
   "name": "python",
   "nbconvert_exporter": "python",
   "pygments_lexer": "ipython3",
   "version": "3.7.3"
  }
 },
 "nbformat": 4,
 "nbformat_minor": 2
}
